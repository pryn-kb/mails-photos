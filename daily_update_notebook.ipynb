{
 "cells": [
  {
   "cell_type": "markdown",
   "id": "83dfad8a-1eaa-4267-9a85-c7138075e5a0",
   "metadata": {},
   "source": [
    "# Outlook"
   ]
  },
  {
   "cell_type": "code",
   "execution_count": 1,
   "id": "3361865b-20ef-4c0b-9dc1-116fc9e90595",
   "metadata": {},
   "outputs": [
    {
     "name": "stdout",
     "output_type": "stream",
     "text": [
      "Today's Date: 2024-10-22\n",
      "Outlook Number: 90\n"
     ]
    }
   ],
   "source": [
    "from datetime import datetime, timedelta\n",
    "\n",
    "# Set the initial value for the number (you can change these values)\n",
    "outlook_number = 100  # Example starting number\n",
    "\n",
    "# Get today's date\n",
    "today = datetime.now().date()\n",
    "\n",
    "# Check if today is a weekday (Monday to Friday)\n",
    "if today.weekday() < 5:  # 0 = Monday, 4 = Friday\n",
    "    outlook_number -= 10\n",
    "\n",
    "# Print results\n",
    "print(f\"Today's Date: {today}\")\n",
    "print(f\"Outlook Number: {outlook_number}\")"
   ]
  },
  {
   "cell_type": "markdown",
   "id": "5985c6fe-53d3-43f3-9c2c-61eab96d28f4",
   "metadata": {},
   "source": [
    "# Gmail"
   ]
  },
  {
   "cell_type": "code",
   "execution_count": 2,
   "id": "7c2c79e1-03f6-4c73-873d-231fc74062f3",
   "metadata": {},
   "outputs": [
    {
     "name": "stdout",
     "output_type": "stream",
     "text": [
      "Today's Date: 2024-10-22\n",
      "Gmail Number: 45\n"
     ]
    }
   ],
   "source": [
    "# Set the initial value for the Gmail number (you can change these values)\n",
    "gmail_number = 50  # Example starting number\n",
    "\n",
    "# Check if today is a weekday (Monday to Friday)\n",
    "if today.weekday() < 5:  # 0 = Monday, 4 = Friday\n",
    "    gmail_number -= 5\n",
    "\n",
    "# Print results\n",
    "print(f\"Today's Date: {today}\")\n",
    "print(f\"Gmail Number: {gmail_number}\")"
   ]
  },
  {
   "cell_type": "markdown",
   "id": "efc43c73-0b7c-402a-b158-2c999e836c24",
   "metadata": {},
   "source": [
    "# Photos"
   ]
  },
  {
   "cell_type": "code",
   "execution_count": 3,
   "id": "04a6c992-0166-41a2-aa83-74227da0a983",
   "metadata": {},
   "outputs": [
    {
     "name": "stdout",
     "output_type": "stream",
     "text": [
      "Today's Date: 2024-10-22\n",
      "Photos Date: 2023-10-23\n"
     ]
    }
   ],
   "source": [
    "# Set the initial date for Photos (you can change this initial date)\n",
    "photos_date = datetime(2023, 10, 16)  # Example starting date\n",
    "\n",
    "# Check if today is a weekday (Monday to Friday)\n",
    "if today.weekday() < 5:  # 0 = Monday, 4 = Friday\n",
    "    # Increase the date by one week every weekday\n",
    "    photos_date += timedelta(weeks=1)\n",
    "\n",
    "# Print results\n",
    "print(f\"Today's Date: {today}\")\n",
    "print(f\"Photos Date: {photos_date.date()}\")"
   ]
  },
  {
   "cell_type": "code",
   "execution_count": null,
   "id": "ca40dbe2-237e-40e4-a561-c57a8bf1f76a",
   "metadata": {},
   "outputs": [],
   "source": []
  }
 ],
 "metadata": {
  "kernelspec": {
   "display_name": "Python 3 (ipykernel)",
   "language": "python",
   "name": "python3"
  },
  "language_info": {
   "codemirror_mode": {
    "name": "ipython",
    "version": 3
   },
   "file_extension": ".py",
   "mimetype": "text/x-python",
   "name": "python",
   "nbconvert_exporter": "python",
   "pygments_lexer": "ipython3",
   "version": "3.12.5"
  }
 },
 "nbformat": 4,
 "nbformat_minor": 5
}
